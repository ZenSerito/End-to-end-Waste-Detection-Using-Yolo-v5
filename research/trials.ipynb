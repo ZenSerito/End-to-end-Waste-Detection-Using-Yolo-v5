{
 "cells": [
  {
   "cell_type": "code",
   "execution_count": 1,
   "metadata": {},
   "outputs": [],
   "source": [
    "import gdown"
   ]
  },
  {
   "cell_type": "code",
   "execution_count": 2,
   "metadata": {},
   "outputs": [],
   "source": [
    "import os"
   ]
  },
  {
   "cell_type": "code",
   "execution_count": 3,
   "metadata": {},
   "outputs": [],
   "source": [
    "os.chdir(\"C:\\\\Users\\\\DELL\\\\Desktop\\\\Pulchowk\\\\Minor Project\\\\End-to-end-Waste-Detection-Using-Yolo-v5\")"
   ]
  },
  {
   "cell_type": "code",
   "execution_count": 13,
   "metadata": {},
   "outputs": [
    {
     "data": {
      "text/plain": [
       "'C:\\\\Users\\\\DELL\\\\Desktop\\\\Pulchowk\\\\Minor Project\\\\End-to-end-Waste-Detection-Using-Yolo-v5'"
      ]
     },
     "execution_count": 13,
     "metadata": {},
     "output_type": "execute_result"
    }
   ],
   "source": [
    "%pwd"
   ]
  },
  {
   "cell_type": "code",
   "execution_count": 5,
   "metadata": {},
   "outputs": [],
   "source": [
    "url= \"https://drive.google.com/file/d/1Az1cIOufYaq1hqieyJAQOjT91oEil7OZ/view?usp=drive_link\""
   ]
  },
  {
   "cell_type": "code",
   "execution_count": 14,
   "metadata": {},
   "outputs": [
    {
     "data": {
      "text/plain": [
       "'https://drive.google.com/uc?id=1Az1cIOufYaq1hqieyJAQOjT91oEil7OZ'"
      ]
     },
     "execution_count": 14,
     "metadata": {},
     "output_type": "execute_result"
    }
   ],
   "source": [
    "file_id = url.split(\"/\")[-2]\n",
    "\n",
    "prefix = 'https://drive.google.com/uc?id='\n",
    "prefix+file_id\n"
   ]
  },
  {
   "cell_type": "code",
   "execution_count": 16,
   "metadata": {},
   "outputs": [
    {
     "name": "stderr",
     "output_type": "stream",
     "text": [
      "Downloading...\n",
      "From (original): https://drive.google.com/uc?id=1Az1cIOufYaq1hqieyJAQOjT91oEil7OZ\n",
      "From (redirected): https://drive.google.com/uc?id=1Az1cIOufYaq1hqieyJAQOjT91oEil7OZ&confirm=t&uuid=3d1c25d7-0868-45db-a6c0-700047a168d2\n",
      "To: C:\\Users\\DELL\\Desktop\\Pulchowk\\Minor Project\\End-to-end-Waste-Detection-Using-Yolo-v5\\data\\waste_data.zip\n",
      "100%|██████████| 40.0M/40.0M [00:20<00:00, 1.95MB/s]\n"
     ]
    },
    {
     "data": {
      "text/plain": [
       "'data/waste_data.zip'"
      ]
     },
     "execution_count": 16,
     "metadata": {},
     "output_type": "execute_result"
    }
   ],
   "source": [
    "gdown.download(prefix+file_id,\"data/waste_data.zip\")"
   ]
  },
  {
   "cell_type": "code",
   "execution_count": null,
   "metadata": {},
   "outputs": [],
   "source": []
  }
 ],
 "metadata": {
  "kernelspec": {
   "display_name": "waste",
   "language": "python",
   "name": "python3"
  },
  "language_info": {
   "codemirror_mode": {
    "name": "ipython",
    "version": 3
   },
   "file_extension": ".py",
   "mimetype": "text/x-python",
   "name": "python",
   "nbconvert_exporter": "python",
   "pygments_lexer": "ipython3",
   "version": "3.7.16"
  }
 },
 "nbformat": 4,
 "nbformat_minor": 2
}
